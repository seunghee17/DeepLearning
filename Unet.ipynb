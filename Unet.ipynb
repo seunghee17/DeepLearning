{
  "nbformat": 4,
  "nbformat_minor": 0,
  "metadata": {
    "colab": {
      "provenance": [],
      "gpuType": "T4",
      "authorship_tag": "ABX9TyNLI0CLr4MQA3sFVEm/wlLn",
      "include_colab_link": true
    },
    "kernelspec": {
      "name": "python3",
      "display_name": "Python 3"
    },
    "language_info": {
      "name": "python"
    },
    "accelerator": "GPU"
  },
  "cells": [
    {
      "cell_type": "markdown",
      "metadata": {
        "id": "view-in-github",
        "colab_type": "text"
      },
      "source": [
        "<a href=\"https://colab.research.google.com/github/songseunghei/DeepLearning/blob/main/Unet.ipynb\" target=\"_parent\"><img src=\"https://colab.research.google.com/assets/colab-badge.svg\" alt=\"Open In Colab\"/></a>"
      ]
    },
    {
      "cell_type": "code",
      "execution_count": 1,
      "metadata": {
        "id": "cjGe-AwUkpC5",
        "colab": {
          "base_uri": "https://localhost:8080/"
        },
        "outputId": "8185849a-5499-45db-84a7-afdc0edde256"
      },
      "outputs": [
        {
          "output_type": "stream",
          "name": "stdout",
          "text": [
            "  Preparing metadata (setup.py) ... \u001b[?25l\u001b[?25hdone\n",
            "  Building wheel for tensorflow-examples (setup.py) ... \u001b[?25l\u001b[?25hdone\n",
            "\u001b[2K     \u001b[90m━━━━━━━━━━━━━━━━━━━━━━━━━━━━━━━━━━━━━━━━\u001b[0m \u001b[32m5.0/5.0 MB\u001b[0m \u001b[31m15.1 MB/s\u001b[0m eta \u001b[36m0:00:00\u001b[0m\n",
            "\u001b[?25h"
          ]
        }
      ],
      "source": [
        "!pip install -q git+https://github.com/tensorflow/examples.git\n",
        "!pip install -q -U tfds-nightly"
      ]
    },
    {
      "cell_type": "code",
      "source": [
        "from tensorflow import keras\n",
        "import numpy as np\n",
        "from tensorflow.keras.preprocessing.image import load_img\n",
        "from tensorflow.keras import layers\n",
        "import os\n",
        "import random\n",
        "import cv2 as cv\n",
        "\n",
        "import tensorflow_datasets as tfds\n",
        "tfds.disable_progress_bar()\n",
        "tfds.load('oxford_iiit_pet:3.*.*', with_info=True)"
      ],
      "metadata": {
        "colab": {
          "base_uri": "https://localhost:8080/"
        },
        "id": "FQzsvHKnzga5",
        "outputId": "7e4ffe6b-718c-4b63-93de-6daaead3bd7a"
      },
      "execution_count": 2,
      "outputs": [
        {
          "output_type": "stream",
          "name": "stdout",
          "text": [
            "Downloading and preparing dataset 773.52 MiB (download: 773.52 MiB, generated: 774.69 MiB, total: 1.51 GiB) to /root/tensorflow_datasets/oxford_iiit_pet/3.2.0...\n",
            "Dataset oxford_iiit_pet downloaded and prepared to /root/tensorflow_datasets/oxford_iiit_pet/3.2.0. Subsequent calls will reuse this data.\n"
          ]
        },
        {
          "output_type": "execute_result",
          "data": {
            "text/plain": [
              "({'train': <_PrefetchDataset element_spec={'file_name': TensorSpec(shape=(), dtype=tf.string, name=None), 'image': TensorSpec(shape=(None, None, 3), dtype=tf.uint8, name=None), 'label': TensorSpec(shape=(), dtype=tf.int64, name=None), 'segmentation_mask': TensorSpec(shape=(None, None, 1), dtype=tf.uint8, name=None), 'species': TensorSpec(shape=(), dtype=tf.int64, name=None)}>,\n",
              "  'test': <_PrefetchDataset element_spec={'file_name': TensorSpec(shape=(), dtype=tf.string, name=None), 'image': TensorSpec(shape=(None, None, 3), dtype=tf.uint8, name=None), 'label': TensorSpec(shape=(), dtype=tf.int64, name=None), 'segmentation_mask': TensorSpec(shape=(None, None, 1), dtype=tf.uint8, name=None), 'species': TensorSpec(shape=(), dtype=tf.int64, name=None)}>},\n",
              " tfds.core.DatasetInfo(\n",
              "     name='oxford_iiit_pet',\n",
              "     full_name='oxford_iiit_pet/3.2.0',\n",
              "     description=\"\"\"\n",
              "     The Oxford-IIIT pet dataset is a 37 category pet image dataset with roughly 200\n",
              "     images for each class. The images have large variations in scale, pose and\n",
              "     lighting. All images have an associated ground truth annotation of breed.\n",
              "     \"\"\",\n",
              "     homepage='http://www.robots.ox.ac.uk/~vgg/data/pets/',\n",
              "     data_dir=PosixGPath('/tmp/tmpa40wwndgtfds'),\n",
              "     file_format=tfrecord,\n",
              "     download_size=773.52 MiB,\n",
              "     dataset_size=774.69 MiB,\n",
              "     features=FeaturesDict({\n",
              "         'file_name': Text(shape=(), dtype=string),\n",
              "         'image': Image(shape=(None, None, 3), dtype=uint8),\n",
              "         'label': ClassLabel(shape=(), dtype=int64, num_classes=37),\n",
              "         'segmentation_mask': Image(shape=(None, None, 1), dtype=uint8),\n",
              "         'species': ClassLabel(shape=(), dtype=int64, num_classes=2),\n",
              "     }),\n",
              "     supervised_keys=('image', 'label'),\n",
              "     disable_shuffling=False,\n",
              "     splits={\n",
              "         'test': <SplitInfo num_examples=3669, num_shards=4>,\n",
              "         'train': <SplitInfo num_examples=3680, num_shards=4>,\n",
              "     },\n",
              "     citation=\"\"\"@InProceedings{parkhi12a,\n",
              "       author       = \"Parkhi, O. M. and Vedaldi, A. and Zisserman, A. and Jawahar, C.~V.\",\n",
              "       title        = \"Cats and Dogs\",\n",
              "       booktitle    = \"IEEE Conference on Computer Vision and Pattern Recognition\",\n",
              "       year         = \"2012\",\n",
              "     }\"\"\",\n",
              " ))"
            ]
          },
          "metadata": {},
          "execution_count": 2
        }
      ]
    },
    {
      "cell_type": "code",
      "source": [
        "input_dir='/root/tensorflow_datasets/downloads/extracted/images/'\n",
        "target_dir='/root/tensorflow_datasets/downloads/extracted/annotations/trimaps/'\n",
        "img_size=(160,160)\n",
        "n_class = 3\n",
        "batch_size = 32\n",
        "img_paths = sorted([os.path.join(input_dir,f) for f in os.listdir(input_dir) if f.endswith('.jpg')])\n",
        "label_paths= sorted([os.path.join(target_dir,f) for f in os.listdir(target_dir) if f.endswith('.png') and not f.startswith('.')])"
      ],
      "metadata": {
        "id": "BEqyvi7L0Kpp"
      },
      "execution_count": 8,
      "outputs": []
    },
    {
      "cell_type": "code",
      "source": [
        "class OxfordPets(keras.utils.Sequence):\n",
        "  def __init__(self,batch_size,img_size,img_paths,label_paths):\n",
        "    self.batch_size = batch_size\n",
        "    self.img_size = img_size\n",
        "    self.img_paths = img_paths\n",
        "    self.label_paths = label_paths\n",
        "  def __len__(self):\n",
        "    return len(self.label_paths)//self.batch_size\n",
        "\n",
        "  def __getitem__(self,idx):\n",
        "    i=idx*self.batch_size\n",
        "    batch_img_paths = self.img_paths[i:i+self.batch_size]\n",
        "    batch_label_paths = self.label_paths[i:i+self.batch_size]\n",
        "    x=np.zeros((self.batch_size,)+self.img_size+(3,),dtype=\"float32\")\n",
        "    for j,path in enumerate(batch_img_paths):\n",
        "      img=load_img(path, target_size=self.img_size)\n",
        "      x[j]=img\n",
        "    y=np.zeros((self.batch_size,)+self.img_size+(1,),dtype=\"uint8\")\n",
        "    for j,path in enumerate(batch_label_paths):\n",
        "      img=load_img(path,target_size = self.img_size, color_mode=\"grayscale\")\n",
        "      y[j]=np.expand_dims(img,2)\n",
        "      y[j]-=1\n",
        "    return x,y"
      ],
      "metadata": {
        "id": "P6xU997P1euF"
      },
      "execution_count": 9,
      "outputs": []
    },
    {
      "cell_type": "code",
      "source": [
        "def conv2d_block(input_tensor, n_filters,kernel_size=3):\n",
        "  x=input_tensor\n",
        "  for i in range(2):\n",
        "    x = layers.SeparableConv2D(filters = n_filters, kernel_size=(kernel_size, kernel_size),\n",
        "                               kernel_initializer = 'he_normal', padding='same')(x)\n",
        "    x=layers.Activation('relu')(x)\n",
        "    return x"
      ],
      "metadata": {
        "id": "g6wMd0n25-0g"
      },
      "execution_count": 10,
      "outputs": []
    },
    {
      "cell_type": "code",
      "source": [
        "def encoder_block(inputs, n_filters=64, pool_size=(2,2), dropout=0.3):\n",
        "  f=conv2d_block(inputs,n_filters=n_filters)\n",
        "  p=layers.MaxPooling2D(pool_size = (2,2))(f)\n",
        "  p=layers.Dropout(0.3)(p)\n",
        "  return f,p"
      ],
      "metadata": {
        "id": "LSDX5vOV6cZu"
      },
      "execution_count": 11,
      "outputs": []
    },
    {
      "cell_type": "code",
      "source": [
        "def encoder(inputs):\n",
        "  f1,p1 = encoder_block(inputs, n_filters=64, pool_size=(2,2), dropout=0.3)\n",
        "  f2,p2 = encoder_block(p1, n_filters=128, pool_size=(2,2), dropout=0.3)\n",
        "  f3,p3 = encoder_block(p2, n_filters=256, pool_size=(2,2), dropout=0.3)\n",
        "  f4,p4 = encoder_block(p3, n_filters=512, pool_size=(2,2), dropout=0.3)\n",
        "  return p4, (f1,f2,f3,f4)"
      ],
      "metadata": {
        "id": "OWUk4WL263NE"
      },
      "execution_count": 20,
      "outputs": []
    },
    {
      "cell_type": "code",
      "source": [
        "def bottleneck(inputs):\n",
        "  bottle_neck = conv2d_block(inputs,n_filters=1024)\n",
        "  return bottle_neck"
      ],
      "metadata": {
        "id": "yFealn3D63WO"
      },
      "execution_count": 13,
      "outputs": []
    },
    {
      "cell_type": "code",
      "source": [
        "def decoder_block(inputs, conv_output, n_filters=64, kernel_size=3, strides=3, dropout=0.3):\n",
        "  u=layers.Conv2DTranspose(n_filters,kernel_size, strides=strides, padding='same')(inputs)\n",
        "  c=layers.concatenate([u, conv_output])\n",
        "  c=layers.Dropout(dropout)(c)\n",
        "  c=conv2d_block(c, n_filters,kernel_size=3)\n",
        "  return c"
      ],
      "metadata": {
        "id": "EkKUy-3I7dFj"
      },
      "execution_count": 14,
      "outputs": []
    },
    {
      "cell_type": "code",
      "source": [
        "import tensorflow as tf\n",
        "def decoder(inputs,convs, output_channels):\n",
        "  f1,f2,f3,f4 = convs\n",
        "\n",
        "  c6 = decoder_block(inputs, f4, n_filters=512, kernel_size=(3,3), strides=(2,2), dropout=0.3)\n",
        "  c7 = decoder_block(c6, f3, n_filters=256, kernel_size=(3,3), strides=(2,2), dropout=0.3)\n",
        "  c8 = decoder_block(c7, f2, n_filters=128, kernel_size=(3,3), strides=(2,2), dropout=0.3)\n",
        "  c9 = decoder_block(c8, f1, n_filters=64, kernel_size=(3,3), strides=(2,2), dropout=0.3)\n",
        "  outputs=tf.keras.layers.Conv2D(output_channels, (1,1), activation='softmax')(c9)\n",
        "  return outputs"
      ],
      "metadata": {
        "id": "xE1Bw-Vc73H2"
      },
      "execution_count": 22,
      "outputs": []
    },
    {
      "cell_type": "code",
      "source": [
        "def make_model(img_size, num_classes):\n",
        "  inputs=keras.Input(shape=img_size+(3,))\n",
        "  encoder_output, convs=encoder(inputs)\n",
        "  bottle_neck = bottleneck(encoder_output)\n",
        "  outputs=decoder(bottle_neck, convs, 3)\n",
        "  model = keras.Model(inputs=inputs, outputs=outputs)\n",
        "  return model"
      ],
      "metadata": {
        "id": "hId-Cv4l8e_G"
      },
      "execution_count": 18,
      "outputs": []
    },
    {
      "cell_type": "code",
      "source": [
        "model = make_model(img_size, n_class)\n",
        "random.Random(1).shuffle(img_paths)\n",
        "random.Random(1).shuffle(label_paths)\n",
        "test_samples=int(len(img_paths)*0.2)\n",
        "train_img_paths = img_paths[:-test_samples]\n",
        "train_label_paths = label_paths[:-test_samples]\n",
        "test_img_paths = img_paths[:-test_samples:]\n",
        "test_label_paths = label_paths[:-test_samples:]\n",
        "\n",
        "train_gen= OxfordPets(batch_size, img_size, train_img_paths, train_label_paths)\n",
        "test_gen = OxfordPets(batch_size,img_size, test_img_paths, test_label_paths)\n",
        "\n",
        "model.compile(optimizer='adam',loss='sparse_categorical_crossentropy',metrics=['accuracy'])\n",
        "cb = [keras.callbacks.ModelCheckpoint('oxford_seg.h5', save_best_only=True)]\n",
        "model.fit(train_gen,epochs=20, validation_data = test_gen, callbacks=cb)\n",
        "from google.colab.patches import cv2_imshow\n",
        "preds = model.predict(test_gen) #예측\n",
        "img = cv.imread(test_label_paths[1])\n",
        "img= cv.resize(img, (160,160))\n",
        "cv2_imshow(img)\n",
        "label = cv.imread(test_label_paths[1])\n",
        "label = cv.resize(label,(160,160))\n",
        "\n",
        "cv2_imshow(label*64)\n",
        "cv2_imshow(preds[1]*255)\n",
        "cv.waitKey()\n",
        "cv.destroyAllWindows()\n",
        "print(preds[1].shape)"
      ],
      "metadata": {
        "colab": {
          "base_uri": "https://localhost:8080/",
          "height": 1000
        },
        "id": "cOSHhQyv8-sM",
        "outputId": "4151b7e5-e2eb-4204-d19e-3efe5843a611"
      },
      "execution_count": 24,
      "outputs": [
        {
          "output_type": "stream",
          "name": "stdout",
          "text": [
            "Epoch 1/20\n",
            "184/184 [==============================] - 114s 587ms/step - loss: 0.8871 - accuracy: 0.1735 - val_loss: 0.7441 - val_accuracy: 0.2386\n",
            "Epoch 2/20\n",
            "184/184 [==============================] - 108s 585ms/step - loss: 0.6448 - accuracy: 0.3232 - val_loss: 0.5793 - val_accuracy: 0.3315\n",
            "Epoch 3/20\n",
            "184/184 [==============================] - 108s 585ms/step - loss: 0.5411 - accuracy: 0.3147 - val_loss: 0.5148 - val_accuracy: 0.3819\n",
            "Epoch 4/20\n",
            "184/184 [==============================] - 108s 585ms/step - loss: 0.4811 - accuracy: 0.3154 - val_loss: 0.4429 - val_accuracy: 0.3223\n",
            "Epoch 5/20\n",
            "184/184 [==============================] - 108s 585ms/step - loss: 0.4451 - accuracy: 0.3147 - val_loss: 0.4024 - val_accuracy: 0.3393\n",
            "Epoch 6/20\n",
            "184/184 [==============================] - 108s 586ms/step - loss: 0.4217 - accuracy: 0.3138 - val_loss: 0.3988 - val_accuracy: 0.3477\n",
            "Epoch 7/20\n",
            "184/184 [==============================] - 107s 584ms/step - loss: 0.4010 - accuracy: 0.3133 - val_loss: 0.3930 - val_accuracy: 0.3618\n",
            "Epoch 8/20\n",
            "184/184 [==============================] - 121s 657ms/step - loss: 0.3903 - accuracy: 0.3137 - val_loss: 0.3694 - val_accuracy: 0.3184\n",
            "Epoch 9/20\n",
            "184/184 [==============================] - 107s 584ms/step - loss: 0.3806 - accuracy: 0.3132 - val_loss: 0.3904 - val_accuracy: 0.3718\n",
            "Epoch 10/20\n",
            "184/184 [==============================] - 108s 585ms/step - loss: 0.3674 - accuracy: 0.3127 - val_loss: 0.4226 - val_accuracy: 0.3909\n",
            "Epoch 11/20\n",
            "184/184 [==============================] - 108s 585ms/step - loss: 0.3554 - accuracy: 0.3133 - val_loss: 0.3554 - val_accuracy: 0.3475\n",
            "Epoch 12/20\n",
            "184/184 [==============================] - 107s 583ms/step - loss: 0.3484 - accuracy: 0.3121 - val_loss: 0.3662 - val_accuracy: 0.3671\n",
            "Epoch 13/20\n",
            "184/184 [==============================] - 121s 656ms/step - loss: 0.3396 - accuracy: 0.3129 - val_loss: 0.3082 - val_accuracy: 0.3250\n",
            "Epoch 14/20\n",
            "184/184 [==============================] - 108s 584ms/step - loss: 0.3369 - accuracy: 0.3112 - val_loss: 0.3259 - val_accuracy: 0.3405\n",
            "Epoch 15/20\n",
            "184/184 [==============================] - 107s 584ms/step - loss: 0.3241 - accuracy: 0.3121 - val_loss: 0.2957 - val_accuracy: 0.3344\n",
            "Epoch 16/20\n",
            "184/184 [==============================] - 107s 581ms/step - loss: 0.3171 - accuracy: 0.3115 - val_loss: 0.2960 - val_accuracy: 0.3319\n",
            "Epoch 17/20\n",
            "184/184 [==============================] - 108s 584ms/step - loss: 0.3081 - accuracy: 0.3110 - val_loss: 0.2740 - val_accuracy: 0.3232\n",
            "Epoch 18/20\n",
            "184/184 [==============================] - 107s 583ms/step - loss: 0.3017 - accuracy: 0.3107 - val_loss: 0.2908 - val_accuracy: 0.3420\n",
            "Epoch 19/20\n",
            "184/184 [==============================] - 107s 581ms/step - loss: 0.2976 - accuracy: 0.3114 - val_loss: 0.2876 - val_accuracy: 0.3470\n",
            "Epoch 20/20\n",
            "184/184 [==============================] - 107s 584ms/step - loss: 0.2927 - accuracy: 0.3101 - val_loss: 0.2656 - val_accuracy: 0.3402\n",
            "184/184 [==============================] - 29s 157ms/step\n"
          ]
        },
        {
          "output_type": "display_data",
          "data": {
            "text/plain": [
              "<PIL.Image.Image image mode=RGB size=160x160>"
            ],
            "image/png": "[encoded data removed]"
          },
          "metadata": {}
        },
        {
          "output_type": "display_data",
          "data": {
            "text/plain": [
              "<PIL.Image.Image image mode=RGB size=160x160>"
            ],
            "image/png": "[encoded data removed]"
          },
          "metadata": {}
        },
        {
          "output_type": "display_data",
          "data": {
            "text/plain": [
              "<PIL.Image.Image image mode=RGB size=160x160>"
            ],
            "image/png": "[encoded data removed]"
          },
          "metadata": {}
        },
        {
          "output_type": "stream",
          "name": "stdout",
          "text": [
            "(160, 160, 3)\n"
          ]
        }
      ]
    }
  ]
}