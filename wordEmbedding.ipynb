{
  "nbformat": 4,
  "nbformat_minor": 0,
  "metadata": {
    "colab": {
      "provenance": [],
      "gpuType": "T4",
      "authorship_tag": "ABX9TyPg5KZ1wOpBZ6wM16XqwuIz",
      "include_colab_link": true
    },
    "kernelspec": {
      "name": "python3",
      "display_name": "Python 3"
    },
    "language_info": {
      "name": "python"
    },
    "accelerator": "GPU"
  },
  "cells": [
    {
      "cell_type": "markdown",
      "metadata": {
        "id": "view-in-github",
        "colab_type": "text"
      },
      "source": [
        "<a href=\"https://colab.research.google.com/github/songseunghei/DeepLearning/blob/main/wordEmbedding.ipynb\" target=\"_parent\"><img src=\"https://colab.research.google.com/assets/colab-badge.svg\" alt=\"Open In Colab\"/></a>"
      ]
    },
    {
      "cell_type": "code",
      "execution_count": 1,
      "metadata": {
        "colab": {
          "base_uri": "https://localhost:8080/"
        },
        "id": "QxxG1lWHdtKb",
        "outputId": "5e75884f-22c1-472c-ba80-0e409b42446d"
      },
      "outputs": [
        {
          "output_type": "stream",
          "name": "stdout",
          "text": [
            "Downloading data from https://storage.googleapis.com/tensorflow/tf-keras-datasets/imdb.npz\n",
            "17464789/17464789 [==============================] - 2s 0us/step\n",
            "훈련용 리뷰 개수:25000\n",
            "테스트용 리뷰 개수:25000\n",
            "카테고리:2\n"
          ]
        }
      ],
      "source": [
        "import numpy as np\n",
        "import matplotlib.pyplot as plt\n",
        "from tensorflow.keras.datasets import imdb\n",
        "\n",
        "(X_train, y_train), (X_test, y_test) = imdb.load_data()\n",
        "print('훈련용 리뷰 개수:{}'.format(len(X_train)))\n",
        "print('테스트용 리뷰 개수:{}'.format(len(X_test)))\n",
        "num_classes = len(set(y_train))\n",
        "print('카테고리:{}'.format(num_classes))"
      ]
    },
    {
      "cell_type": "code",
      "source": [
        "print('첫번째 훈련용 리뷰:', X_train[0])\n",
        "print('첫번째 훈련용 리뷰의 레이블:' ,y_train[0])\n"
      ],
      "metadata": {
        "colab": {
          "base_uri": "https://localhost:8080/"
        },
        "id": "HzanqAZYkU3N",
        "outputId": "6bd5782a-3bfb-4651-af88-b02be44506c8"
      },
      "execution_count": 2,
      "outputs": [
        {
          "output_type": "stream",
          "name": "stdout",
          "text": [
            "첫번째 훈련용 리뷰: [1, 14, 22, 16, 43, 530, 973, 1622, 1385, 65, 458, 4468, 66, 3941, 4, 173, 36, 256, 5, 25, 100, 43, 838, 112, 50, 670, 22665, 9, 35, 480, 284, 5, 150, 4, 172, 112, 167, 21631, 336, 385, 39, 4, 172, 4536, 1111, 17, 546, 38, 13, 447, 4, 192, 50, 16, 6, 147, 2025, 19, 14, 22, 4, 1920, 4613, 469, 4, 22, 71, 87, 12, 16, 43, 530, 38, 76, 15, 13, 1247, 4, 22, 17, 515, 17, 12, 16, 626, 18, 19193, 5, 62, 386, 12, 8, 316, 8, 106, 5, 4, 2223, 5244, 16, 480, 66, 3785, 33, 4, 130, 12, 16, 38, 619, 5, 25, 124, 51, 36, 135, 48, 25, 1415, 33, 6, 22, 12, 215, 28, 77, 52, 5, 14, 407, 16, 82, 10311, 8, 4, 107, 117, 5952, 15, 256, 4, 31050, 7, 3766, 5, 723, 36, 71, 43, 530, 476, 26, 400, 317, 46, 7, 4, 12118, 1029, 13, 104, 88, 4, 381, 15, 297, 98, 32, 2071, 56, 26, 141, 6, 194, 7486, 18, 4, 226, 22, 21, 134, 476, 26, 480, 5, 144, 30, 5535, 18, 51, 36, 28, 224, 92, 25, 104, 4, 226, 65, 16, 38, 1334, 88, 12, 16, 283, 5, 16, 4472, 113, 103, 32, 15, 16, 5345, 19, 178, 32]\n",
            "첫번째 훈련용 리뷰의 레이블: 1\n"
          ]
        }
      ]
    },
    {
      "cell_type": "code",
      "source": [
        "word2id = imdb.get_word_index()\n",
        "id2word={word:id for id,word in word2id.items()}\n",
        "for i in range(1,21):\n",
        "  print(id2word[i], end='/')"
      ],
      "metadata": {
        "colab": {
          "base_uri": "https://localhost:8080/"
        },
        "id": "-DpzmE8ZksYo",
        "outputId": "2f33843d-1951-4ab9-a4d6-2309fa35d775"
      },
      "execution_count": 3,
      "outputs": [
        {
          "output_type": "stream",
          "name": "stdout",
          "text": [
            "Downloading data from https://storage.googleapis.com/tensorflow/tf-keras-datasets/imdb_word_index.json\n",
            "1641221/1641221 [==============================] - 1s 1us/step\n",
            "the/and/a/of/to/is/br/in/it/i/this/that/was/as/for/with/movie/but/film/on/"
          ]
        }
      ]
    },
    {
      "cell_type": "code",
      "source": [
        "from tensorflow.keras.datasets import imdb\n",
        "from tensorflow.keras.models import Sequential\n",
        "from tensorflow.keras.layers import Dense,Flatten,Embedding\n",
        "from tensorflow.keras import preprocessing\n",
        "\n",
        "#사전의 크기(사전에 있는 단어 개수)\n",
        "dic_siz=10000\n",
        "#샘플의 크기\n",
        "sample_siz=512\n",
        "(x_train, y_train),(x_test,y_test) = imdb.load_data(num_words=dic_siz)\n",
        "\n",
        "#16차원의 임베딩공간\n",
        "embed_space_dim=16\n",
        "x_train=preprocessing.sequence.pad_sequences(x_train, maxlen=sample_siz)\n",
        "x_test=preprocessing.sequence.pad_sequences(x_test,maxlen=sample_siz)"
      ],
      "metadata": {
        "id": "3IzwtZrZk9o9"
      },
      "execution_count": 4,
      "outputs": []
    },
    {
      "cell_type": "code",
      "source": [
        "#신경망 모델 설계와 학습\n",
        "embed=Sequential()\n",
        "#input_dim차원을 output_dim차원으로 축소시킴\n",
        "embed.add(Embedding(input_dim=dic_siz,output_dim = embed_space_dim, input_length=sample_siz))\n",
        "embed.add(Flatten())\n",
        "embed.add(Dense(32,activation='relu'))\n",
        "embed.add(Dense(1,activation='sigmoid'))\n",
        "embed.compile(loss='binary_crossentropy', optimizer='Adam',metrics=['accuracy'])\n",
        "hist=embed.fit(x_train,y_train,epochs=20,batch_size=64,validation_data=(x_test,y_test),verbose=2)\n",
        "\n",
        "embed.summary()\n",
        "\n",
        "#모델 평가\n",
        "res=embed.evaluate(x_test,y_test,verbose=0)\n",
        "print(\"정확률은\", res[1]*100)\n",
        "\n",
        "import matplotlib.pyplot as plt\n",
        "\n",
        "#학습곡선\n",
        "plt.plot(hist.history['accuracy'])\n",
        "plt.plot(hist.history['val_accuracy'])\n",
        "plt.title('Model accuracy')\n",
        "plt.ylabel('Accuracy')\n",
        "plt.xlabel('Epoch')\n",
        "plt.legend(['Train','Validation'],loc='best')\n",
        "plt.grid()\n",
        "plt.show()"
      ],
      "metadata": {
        "colab": {
          "base_uri": "https://localhost:8080/",
          "height": 1000
        },
        "id": "Q-NzPHtpx3y8",
        "outputId": "a0da9c77-8f1c-465b-b234-6b9f2bc73473"
      },
      "execution_count": 6,
      "outputs": [
        {
          "output_type": "stream",
          "name": "stdout",
          "text": [
            "Epoch 1/20\n",
            "391/391 - 53s - loss: 0.4363 - accuracy: 0.7678 - val_loss: 0.3041 - val_accuracy: 0.8694 - 53s/epoch - 136ms/step\n",
            "Epoch 2/20\n",
            "391/391 - 25s - loss: 0.1605 - accuracy: 0.9424 - val_loss: 0.3146 - val_accuracy: 0.8725 - 25s/epoch - 64ms/step\n",
            "Epoch 3/20\n",
            "391/391 - 17s - loss: 0.0524 - accuracy: 0.9853 - val_loss: 0.3797 - val_accuracy: 0.8638 - 17s/epoch - 43ms/step\n",
            "Epoch 4/20\n",
            "391/391 - 9s - loss: 0.0128 - accuracy: 0.9985 - val_loss: 0.4488 - val_accuracy: 0.8651 - 9s/epoch - 23ms/step\n",
            "Epoch 5/20\n",
            "391/391 - 9s - loss: 0.0038 - accuracy: 0.9998 - val_loss: 0.4955 - val_accuracy: 0.8633 - 9s/epoch - 23ms/step\n",
            "Epoch 6/20\n",
            "391/391 - 8s - loss: 0.0017 - accuracy: 1.0000 - val_loss: 0.5225 - val_accuracy: 0.8647 - 8s/epoch - 20ms/step\n",
            "Epoch 7/20\n",
            "391/391 - 7s - loss: 7.7784e-04 - accuracy: 1.0000 - val_loss: 0.5492 - val_accuracy: 0.8645 - 7s/epoch - 17ms/step\n",
            "Epoch 8/20\n",
            "391/391 - 7s - loss: 4.9021e-04 - accuracy: 1.0000 - val_loss: 0.5715 - val_accuracy: 0.8653 - 7s/epoch - 17ms/step\n",
            "Epoch 9/20\n",
            "391/391 - 5s - loss: 3.3286e-04 - accuracy: 1.0000 - val_loss: 0.5920 - val_accuracy: 0.8651 - 5s/epoch - 14ms/step\n",
            "Epoch 10/20\n",
            "391/391 - 6s - loss: 2.3696e-04 - accuracy: 1.0000 - val_loss: 0.6109 - val_accuracy: 0.8656 - 6s/epoch - 16ms/step\n",
            "Epoch 11/20\n",
            "391/391 - 4s - loss: 1.6879e-04 - accuracy: 1.0000 - val_loss: 0.6286 - val_accuracy: 0.8653 - 4s/epoch - 9ms/step\n",
            "Epoch 12/20\n",
            "391/391 - 3s - loss: 1.2595e-04 - accuracy: 1.0000 - val_loss: 0.6460 - val_accuracy: 0.8650 - 3s/epoch - 8ms/step\n",
            "Epoch 13/20\n",
            "391/391 - 4s - loss: 9.4627e-05 - accuracy: 1.0000 - val_loss: 0.6617 - val_accuracy: 0.8656 - 4s/epoch - 11ms/step\n",
            "Epoch 14/20\n",
            "391/391 - 4s - loss: 7.2448e-05 - accuracy: 1.0000 - val_loss: 0.6777 - val_accuracy: 0.8657 - 4s/epoch - 10ms/step\n",
            "Epoch 15/20\n",
            "391/391 - 4s - loss: 5.5619e-05 - accuracy: 1.0000 - val_loss: 0.6936 - val_accuracy: 0.8654 - 4s/epoch - 10ms/step\n",
            "Epoch 16/20\n",
            "391/391 - 6s - loss: 4.3098e-05 - accuracy: 1.0000 - val_loss: 0.7080 - val_accuracy: 0.8654 - 6s/epoch - 15ms/step\n",
            "Epoch 17/20\n",
            "391/391 - 4s - loss: 3.3358e-05 - accuracy: 1.0000 - val_loss: 0.7230 - val_accuracy: 0.8658 - 4s/epoch - 10ms/step\n",
            "Epoch 18/20\n",
            "391/391 - 3s - loss: 2.6117e-05 - accuracy: 1.0000 - val_loss: 0.7379 - val_accuracy: 0.8655 - 3s/epoch - 8ms/step\n",
            "Epoch 19/20\n",
            "391/391 - 4s - loss: 2.0553e-05 - accuracy: 1.0000 - val_loss: 0.7520 - val_accuracy: 0.8660 - 4s/epoch - 10ms/step\n",
            "Epoch 20/20\n",
            "391/391 - 4s - loss: 1.6072e-05 - accuracy: 1.0000 - val_loss: 0.7661 - val_accuracy: 0.8658 - 4s/epoch - 10ms/step\n",
            "Model: \"sequential_1\"\n",
            "_________________________________________________________________\n",
            " Layer (type)                Output Shape              Param #   \n",
            "=================================================================\n",
            " embedding_1 (Embedding)     (None, 512, 16)           160000    \n",
            "                                                                 \n",
            " flatten_1 (Flatten)         (None, 8192)              0         \n",
            "                                                                 \n",
            " dense_2 (Dense)             (None, 32)                262176    \n",
            "                                                                 \n",
            " dense_3 (Dense)             (None, 1)                 33        \n",
            "                                                                 \n",
            "=================================================================\n",
            "Total params: 422209 (1.61 MB)\n",
            "Trainable params: 422209 (1.61 MB)\n",
            "Non-trainable params: 0 (0.00 Byte)\n",
            "_________________________________________________________________\n",
            "정확률은 86.58400177955627\n"
          ]
        },
        {
          "output_type": "display_data",
          "data": {
            "text/plain": [
              "<Figure size 640x480 with 1 Axes>"
            ],
            "image/png": "[encoded data removed]"
          },
          "metadata": {}
        }
      ]
    },
    {
      "cell_type": "code",
      "source": [
        "from tensorflow.keras.datasets import imdb\n",
        "from tensorflow.keras.models import Sequential\n",
        "from tensorflow.keras.layers import Dense,LSTM,Embedding\n",
        "from tensorflow.keras import preprocessing\n",
        "from tensorflow.keras.callbacks import EarlyStopping\n",
        "\n",
        "#사전의 크기, 사전에 있는단어의 개수\n",
        "dic_siz=10000\n",
        "sample_siz=512\n",
        "\n",
        "(x_train,y_train),(x_test,y_test) = imdb.load_data(num_words=dic_siz)\n",
        "\n",
        "embed_space_dim=16\n",
        "\n",
        "x_train=preprocessing.sequence.pad_sequences(x_train,maxlen=sample_siz)\n",
        "x_test = preprocessing.sequence.pad_sequences(x_test,maxlen=sample_siz)\n",
        "\n",
        "#검증집합에 대한 정확률을 조기 멈춤기준으로 사용\n",
        "#5세대 동안 성능향상 없으면 멈춤\n",
        "#가장 높은 성능을 발휘했을때의 가중치를 취함\n",
        "early=EarlyStopping(monitor='val_accuracy', patience=5, restore_best_weights=True)\n",
        "\n",
        "#신경망 모델의 설계와 학습(LSTM층 포함)\n",
        "embed=Sequential()\n",
        "embed.add(Embedding(input_dim=dic_siz, output_dim=embed_space_dim, input_length=sample_siz))\n",
        "embed.add(LSTM(units=32))\n",
        "embed.add(Dense(1,activation='sigmoid'))\n",
        "embed.compile(loss='binary_crossentropy', optimizer='Adam', metrics=['accuracy'])\n",
        "#훈련집합의 20%떼어 검증집합으로 사용 콜백함수를 통해 조기 멈춤 적용\n",
        "hist=embed.fit(x_train,y_train,epochs=20, batch_size=64, validation_split=0.2, verbose=2, callbacks=[early])"
      ],
      "metadata": {
        "colab": {
          "base_uri": "https://localhost:8080/"
        },
        "id": "o8BbepDv0Lkh",
        "outputId": "063fdbd6-df8e-463f-80a2-a2762ddcb767"
      },
      "execution_count": 9,
      "outputs": [
        {
          "output_type": "stream",
          "name": "stdout",
          "text": [
            "Epoch 1/20\n",
            "313/313 - 35s - loss: 0.4810 - accuracy: 0.7577 - val_loss: 0.4291 - val_accuracy: 0.8288 - 35s/epoch - 110ms/step\n",
            "Epoch 2/20\n",
            "313/313 - 20s - loss: 0.2559 - accuracy: 0.9010 - val_loss: 0.2960 - val_accuracy: 0.8808 - 20s/epoch - 63ms/step\n",
            "Epoch 3/20\n",
            "313/313 - 16s - loss: 0.1869 - accuracy: 0.9335 - val_loss: 0.3028 - val_accuracy: 0.8804 - 16s/epoch - 50ms/step\n",
            "Epoch 4/20\n",
            "313/313 - 10s - loss: 0.1695 - accuracy: 0.9402 - val_loss: 0.3603 - val_accuracy: 0.8544 - 10s/epoch - 31ms/step\n",
            "Epoch 5/20\n",
            "313/313 - 10s - loss: 0.1175 - accuracy: 0.9599 - val_loss: 0.3761 - val_accuracy: 0.8648 - 10s/epoch - 31ms/step\n",
            "Epoch 6/20\n",
            "313/313 - 9s - loss: 0.0900 - accuracy: 0.9721 - val_loss: 0.3826 - val_accuracy: 0.8708 - 9s/epoch - 28ms/step\n",
            "Epoch 7/20\n",
            "313/313 - 9s - loss: 0.1044 - accuracy: 0.9654 - val_loss: 0.4102 - val_accuracy: 0.8634 - 9s/epoch - 29ms/step\n"
          ]
        }
      ]
    },
    {
      "cell_type": "code",
      "source": [
        "#학습곡선\n",
        "plt.plot(hist.history['accuracy'])\n",
        "plt.plot(hist.history['val_accuracy'])\n",
        "plt.title('Model accuracy')\n",
        "plt.ylabel('Accuracy')\n",
        "plt.xlabel('Epoch')\n",
        "plt.legend(['Train','Validation'],loc='best')\n",
        "plt.grid()\n",
        "plt.show()"
      ],
      "metadata": {
        "colab": {
          "base_uri": "https://localhost:8080/",
          "height": 472
        },
        "id": "U0UHK5Df3UKB",
        "outputId": "d8991ee7-95c6-45d3-868e-a827d8a364e8"
      },
      "execution_count": 10,
      "outputs": [
        {
          "output_type": "display_data",
          "data": {
            "text/plain": [
              "<Figure size 640x480 with 1 Axes>"
            ],
            "image/png": "[encoded data removed]"
          },
          "metadata": {}
        }
      ]
    },
    {
      "cell_type": "code",
      "source": [
        "from urllib.request import urlretrieve, urlopen\n",
        "import gzip\n",
        "import zipfile\n",
        "\n",
        "urlretrieve(\"http://nlp.stanford.edu/data/glove.6B.zip\", filename=\"glove.6B.zip\")\n",
        "zf=zipfile.ZipFile('glove.6B.zip')\n",
        "zf.extractall()\n",
        "zf.close()"
      ],
      "metadata": {
        "id": "icmTN96d4LZQ"
      },
      "execution_count": 11,
      "outputs": []
    },
    {
      "cell_type": "code",
      "source": [
        "import numpy as np\n",
        "from scipy.spatial import distance\n",
        "\n",
        "dictionary={}\n",
        "f=open('glove.6B.100d.txt', encoding=\"utf8\")\n",
        "for line in f:\n",
        "  word_vector=line.split()\n",
        "  word= word_vector[0]\n",
        "  #100개의 값을 가지는 array로 변환\n",
        "  word_vector_arr = np.asarray(word_vector[1:], dtype='float32')\n",
        "  dictionary[word] = word_vector_arr\n",
        "f.close()\n",
        "print('%s개의 Embedding vector가 있습니다.' % len(dictionary))\n",
        "print(dictionary['class'])\n",
        "print('벡터의 차원 수:', len(dictionary['class']))\n"
      ],
      "metadata": {
        "colab": {
          "base_uri": "https://localhost:8080/"
        },
        "id": "RfnvTdiG4n_u",
        "outputId": "61e068ac-f385-40c1-862f-ef66fb9b5e9d"
      },
      "execution_count": 13,
      "outputs": [
        {
          "output_type": "stream",
          "name": "stdout",
          "text": [
            "400000개의 Embedding vector가 있습니다.\n",
            "[ 0.44507    1.1348     0.33681    0.033357  -1.0405     0.24413\n",
            "  0.43113    0.041197  -0.81321    1.1462    -0.041166  -0.56681\n",
            " -0.37751    0.010833  -0.49384   -0.98461    0.2911     0.62519\n",
            "  0.0021157  0.076011   0.57661   -0.42666    0.026943  -0.31422\n",
            "  0.22591   -0.40706   -0.44773   -0.46698    0.071828   0.087351\n",
            " -0.25286    1.0292    -0.17695   -0.57001    0.69949    0.49922\n",
            " -0.23905    0.21815    0.067587   0.91464   -0.62297   -0.85661\n",
            " -0.1409    -0.61247    0.66159    0.090501   0.19563    0.35387\n",
            "  0.18804    0.30706   -0.73807    0.019089  -0.32798    0.51793\n",
            " -0.003088  -1.7927     0.08279   -0.13564    2.0857     0.16076\n",
            " -0.41443    0.42641    0.055687   0.03359    0.74283   -0.19547\n",
            "  0.53011    0.19503    0.44296    0.54503   -0.030984  -0.49682\n",
            " -0.11398    0.085998  -0.046392   0.92739    0.088696  -0.28703\n",
            " -0.72927   -1.1755    -0.26028   -0.55622   -0.026987  -0.20324\n",
            " -0.81465   -0.12299   -1.1006    -1.5845    -0.18962   -0.32423\n",
            " -0.99665   -0.060921   0.43139    0.38787    0.24177    0.29155\n",
            " -0.080935  -0.70294    0.47778   -0.33316  ]\n",
            "벡터의 차원 수: 100\n"
          ]
        }
      ]
    },
    {
      "cell_type": "code",
      "source": [
        "#가장 가까운 단어를 찾아주는 함수\n",
        "def find_closest_words(vector):\n",
        "  return sorted(dictionary.keys(), key=lambda w: distance.euclidean(dictionary[w],vector))\n",
        "#가까운단어 찾기\n",
        "print(find_closest_words(dictionary['movie'])[:5])\n",
        "print(find_closest_words(dictionary['school'])[:5])\n",
        "print(find_closest_words(dictionary['oak'])[:5])\n",
        "\n",
        "#단어추론\n",
        "print(find_closest_words(dictionary[\"seoul\"]-dictionary[\"korea\"]+dictionary[\"spain\"])[:5])\n",
        "print(find_closest_words(dictionary[\"animal\"]-dictionary[\"lion\"]+dictionary[\"oak\"])[:5])\n",
        "print(find_closest_words(dictionary[\"queen\"]-dictionary[\"king\"]+dictionary[\"actress\"])[:5])"
      ],
      "metadata": {
        "colab": {
          "base_uri": "https://localhost:8080/"
        },
        "id": "75sYCIhj53PS",
        "outputId": "19fd8715-cb1a-4f3c-ae14-0fe9118e43b2"
      },
      "execution_count": 14,
      "outputs": [
        {
          "output_type": "stream",
          "name": "stdout",
          "text": [
            "['movie', 'film', 'movies', 'films', 'hollywood']\n",
            "['school', 'college', 'schools', 'elementary', 'students']\n",
            "['oak', 'pine', 'cedar', 'walnut', 'grove']\n",
            "['madrid', 'spain', 'santiago', 'seville', 'valencia']\n",
            "['oak', 'trees', 'woodland', 'wood', 'organic']\n",
            "['actress', 'actresses', 'dancer', 'actor', 'comedienne']\n"
          ]
        }
      ]
    }
  ]
}